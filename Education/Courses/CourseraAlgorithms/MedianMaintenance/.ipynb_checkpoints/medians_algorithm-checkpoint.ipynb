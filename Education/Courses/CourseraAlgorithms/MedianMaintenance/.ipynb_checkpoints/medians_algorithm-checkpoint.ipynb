{
 "cells": [
  {
   "cell_type": "markdown",
   "metadata": {},
   "source": [
    "### Naive Array-Heap implementation for the Course problem solving"
   ]
  },
  {
   "cell_type": "code",
   "execution_count": 139,
   "metadata": {},
   "outputs": [],
   "source": [
    "import heap_int"
   ]
  },
  {
   "cell_type": "code",
   "execution_count": 141,
   "metadata": {},
   "outputs": [
    {
     "name": "stdout",
     "output_type": "stream",
     "text": [
      "sum of medians ==  46831213\n"
     ]
    }
   ],
   "source": [
    "values = []\n",
    "result = []\n",
    "high_heap = ArrayHeap(comparator = HeapType.MIN)\n",
    "low_heap = ArrayHeap(comparator = HeapType.MAX)\n",
    "with open(\"median.txt\") as meds:\n",
    "    gen = (int(v) for v in meds.readlines())\n",
    "len_h = 0\n",
    "len_l = 0\n",
    "for value in gen:\n",
    "    if high_heap.lookup_top() is None or high_heap.lookup_top() > value:\n",
    "        low_heap.insert(value)\n",
    "    else:\n",
    "        high_heap.insert(value)\n",
    "    if len(high_heap) < len(low_heap):\n",
    "        high_heap.insert(low_heap.extract_top())\n",
    "        \n",
    "    elif abs(len(high_heap) - len(low_heap)) > 1:\n",
    "        low_heap.insert(high_heap.extract_top())\n",
    "    if (len(high_heap) + len(low_heap)) % 2 == 0:\n",
    "        result.append(low_heap.lookup_top())\n",
    "    else:\n",
    "        result.append(high_heap.lookup_top())\n",
    "print('sum of medians == ', sum(result))"
   ]
  },
  {
   "cell_type": "code",
   "execution_count": null,
   "metadata": {},
   "outputs": [],
   "source": []
  }
 ],
 "metadata": {
  "kernelspec": {
   "display_name": "Python 3",
   "language": "python",
   "name": "python3"
  },
  "language_info": {
   "codemirror_mode": {
    "name": "ipython",
    "version": 3
   },
   "file_extension": ".py",
   "mimetype": "text/x-python",
   "name": "python",
   "nbconvert_exporter": "python",
   "pygments_lexer": "ipython3",
   "version": "3.7.4"
  }
 },
 "nbformat": 4,
 "nbformat_minor": 4
}
