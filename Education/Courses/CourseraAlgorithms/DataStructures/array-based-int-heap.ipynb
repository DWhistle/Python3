{
 "cells": [
  {
   "cell_type": "markdown",
   "metadata": {},
   "source": [
    "### Naive Array-Heap implementation for the Course problem solving"
   ]
  },
  {
   "cell_type": "code",
   "execution_count": 187,
   "metadata": {},
   "outputs": [],
   "source": [
    "from typing import NamedTuple\n",
    "from math import floor\n",
    "class ArrayHeap:\n",
    "    @staticmethod\n",
    "    def previous_elem(index):\n",
    "        if index == 0:\n",
    "            return index\n",
    "        return int(index / 2 - 1 if index % 2 == 0 else floor(index / 2))\n",
    "    \n",
    "    def swap(self, ind1, ind2):\n",
    "        data = self.data\n",
    "#         print(data[ind1], data[ind2])\n",
    "        data[ind1], data[ind2] = data[ind2], data[ind1]\n",
    "#         print(data[ind1], data[ind2])\n",
    "\n",
    "        \n",
    "    def __init__(self, values = []):\n",
    "        self.data = self.init_heap(values) if len(values) else []\n",
    "        \n",
    "    def init_heap(self, values: list):\n",
    "        return sorted(values)\n",
    "    \n",
    "    def __repr__(self):\n",
    "        return repr(self.data)\n",
    "    \n",
    "    def restore_heap(self):\n",
    "        current_index = len(self.data) - 1\n",
    "        preceding_index = ArrayHeap.previous_elem(current_index)\n",
    "        while True:\n",
    "            if self.data[preceding_index] > self.data[current_index]:\n",
    "                self.swap(preceding_index, current_index)\n",
    "#                 print(self.data)\n",
    "            else:\n",
    "#                 print(self.data)\n",
    "                break\n",
    "            current_index, preceding_index = preceding_index, ArrayHeap.previous_elem(preceding_index)\n",
    "\n",
    "    \n",
    "    def insert(self, values):\n",
    "        if type(values) is not list:\n",
    "            values = [values]\n",
    "        for v in values:\n",
    "            self.data.append(v)\n",
    "            self.restore_heap()\n"
   ]
  },
  {
   "cell_type": "code",
   "execution_count": 188,
   "metadata": {},
   "outputs": [],
   "source": [
    "heap = ArrayHeap([1,2,3,4,5,6,7,8])"
   ]
  },
  {
   "cell_type": "code",
   "execution_count": 189,
   "metadata": {
    "scrolled": false
   },
   "outputs": [
    {
     "name": "stdout",
     "output_type": "stream",
     "text": [
      "4 0\n",
      "0 4\n",
      "[1, 2, 3, 0, 5, 6, 7, 8, 4]\n",
      "2 0\n",
      "0 2\n",
      "[1, 0, 3, 2, 5, 6, 7, 8, 4]\n",
      "1 0\n",
      "0 1\n",
      "[0, 1, 3, 2, 5, 6, 7, 8, 4]\n",
      "[0, 1, 3, 2, 5, 6, 7, 8, 4]\n",
      "[0, 1, 3, 2, 5, 6, 7, 8, 4, 13]\n",
      "5 2\n",
      "2 5\n",
      "[0, 1, 3, 2, 2, 6, 7, 8, 4, 13, 5]\n",
      "[0, 1, 3, 2, 2, 6, 7, 8, 4, 13, 5]\n"
     ]
    }
   ],
   "source": [
    "heap.insert([0, 13, 2])\n"
   ]
  },
  {
   "cell_type": "code",
   "execution_count": null,
   "metadata": {},
   "outputs": [],
   "source": []
  },
  {
   "cell_type": "code",
   "execution_count": null,
   "metadata": {},
   "outputs": [],
   "source": []
  }
 ],
 "metadata": {
  "kernelspec": {
   "display_name": "Python 3",
   "language": "python",
   "name": "python3"
  },
  "language_info": {
   "codemirror_mode": {
    "name": "ipython",
    "version": 3
   },
   "file_extension": ".py",
   "mimetype": "text/x-python",
   "name": "python",
   "nbconvert_exporter": "python",
   "pygments_lexer": "ipython3",
   "version": "3.7.6"
  }
 },
 "nbformat": 4,
 "nbformat_minor": 4
}
