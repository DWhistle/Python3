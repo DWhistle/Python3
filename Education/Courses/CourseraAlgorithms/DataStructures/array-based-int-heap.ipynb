{
 "cells": [
  {
   "cell_type": "markdown",
   "metadata": {},
   "source": [
    "### Naive Array-Heap implementation for the Course problem solving"
   ]
  },
  {
   "cell_type": "code",
   "execution_count": 231,
   "metadata": {},
   "outputs": [],
   "source": [
    "from typing import NamedTuple\n",
    "from math import floor\n",
    "from enum import Enum\n",
    "\n",
    "class HeapType(Enum):\n",
    "    MAX = lambda x: -x\n",
    "    MIN = lambda x: x\n",
    "        \n",
    "class ArrayHeap:\n",
    "    @staticmethod\n",
    "    def previous_elem(index):\n",
    "        if index == 0:\n",
    "            return index\n",
    "        return int(index / 2 - 1 if index % 2 == 0 else floor(index / 2))\n",
    "\n",
    "    @staticmethod\n",
    "    def next_elems(index):\n",
    "        if index == 0:\n",
    "            return 1, 2\n",
    "        return index * 2, index * 2 + 1\n",
    "    \n",
    "    def is_heap_property(self, root, leaf):\n",
    "        return self.comp(self.data[root]) <= self.comp(self.data[leaf])\n",
    "        \n",
    "    def swap(self, ind1, ind2):\n",
    "        data = self.data\n",
    "#         print(data[ind1], data[ind2])\n",
    "        data[ind1], data[ind2] = data[ind2], data[ind1]\n",
    "#         print(data[ind1], data[ind2])\n",
    "\n",
    "        \n",
    "    def __init__(self, values = [], comparator = HeapType.MIN):\n",
    "        self.comp = comparator\n",
    "        self.data = self.init_heap(values) if len(values) else []\n",
    "        \n",
    "    def init_heap(self, values: list):\n",
    "        return sorted(values, key = self.comp)\n",
    "    \n",
    "    def __repr__(self):\n",
    "        return repr(self.data)\n",
    "    \n",
    "    def restore_heap(self):\n",
    "        current_index = len(self.data) - 1\n",
    "        preceding_index = ArrayHeap.previous_elem(current_index)\n",
    "        while True:\n",
    "            if not self.is_heap_property(preceding_index, current_index):\n",
    "                self.swap(preceding_index, current_index)\n",
    "                #print(self.data)\n",
    "            else:\n",
    "#                 print(self.data)\n",
    "                break\n",
    "            current_index, preceding_index = preceding_index, ArrayHeap.previous_elem(preceding_index)\n",
    "        \n",
    "    def find_smallest_descendant(self, root, left, right):\n",
    "        data = self.data\n",
    "        is_left = len(data) > left\n",
    "        is_right = len(data) > right\n",
    "        #print(data, root, left, right)\n",
    "        #print(is_left, is_right)\n",
    "        if is_left:\n",
    "            if not is_right:\n",
    "                return left\n",
    "            return left if self.comp(data[left]) < self.comp(data[right]) else right\n",
    "        return -1\n",
    "        \n",
    "    def extract_top(self):\n",
    "        data = self.data\n",
    "        if len(data) == 1:\n",
    "            return data.pop(0)\n",
    "        elif len(data) == 0:\n",
    "            return None\n",
    "        top = self.data[0]\n",
    "        data[0] = data.pop()\n",
    "        left, right = ArrayHeap.next_elems(0)\n",
    "        root = self.find_smallest_descendant(0, left, right)\n",
    "        if root < 0:\n",
    "            return top\n",
    "        #print(root)\n",
    "        self.swap(root, 0)\n",
    "        while True:\n",
    "            left, right = ArrayHeap.next_elems(root)\n",
    "            smallest = self.find_smallest_descendant(root, left, right)\n",
    "            #print(smallest)\n",
    "            if smallest < 0:\n",
    "                return top\n",
    "            \n",
    "            if not self.is_heap_property(root, smallest):\n",
    "                self.swap(root, smallest)\n",
    "                root = smallest\n",
    "            else:\n",
    "                break\n",
    "        return top\n",
    "        \n",
    "    \n",
    "    def insert(self, values):\n",
    "        if type(values) is not list:\n",
    "            values = [values]\n",
    "        for v in values:\n",
    "            self.data.append(v)\n",
    "            self.restore_heap()\n"
   ]
  },
  {
   "cell_type": "code",
   "execution_count": 232,
   "metadata": {},
   "outputs": [],
   "source": [
    "heap = ArrayHeap([1,2,3,4,5,6,7,8], HeapType.MIN)\n",
    "heap2 = ArrayHeap([1,2,3,4,5,6,7,8], HeapType.MAX)"
   ]
  },
  {
   "cell_type": "code",
   "execution_count": 233,
   "metadata": {
    "scrolled": false
   },
   "outputs": [],
   "source": [
    "heap.insert([0, 13, 2])\n",
    "heap2.insert([0, 13, 2])"
   ]
  },
  {
   "cell_type": "code",
   "execution_count": 234,
   "metadata": {},
   "outputs": [
    {
     "name": "stdout",
     "output_type": "stream",
     "text": [
      "[0, 1, 3, 2, 2, 6, 7, 8, 4, 13, 5]\n",
      "[13, 8, 6, 5, 7, 3, 2, 1, 0, 4, 2]\n"
     ]
    }
   ],
   "source": [
    "print(heap)\n",
    "print(heap2)"
   ]
  },
  {
   "cell_type": "code",
   "execution_count": 236,
   "metadata": {},
   "outputs": [
    {
     "name": "stdout",
     "output_type": "stream",
     "text": [
      "13\n",
      "======================\n",
      "8\n",
      "======================\n",
      "7\n",
      "======================\n",
      "6\n",
      "======================\n",
      "5\n",
      "======================\n",
      "4\n",
      "======================\n",
      "3\n",
      "======================\n",
      "2\n",
      "======================\n",
      "2\n",
      "======================\n",
      "1\n",
      "======================\n",
      "0\n",
      "======================\n",
      "None\n"
     ]
    }
   ],
   "source": [
    "while True:\n",
    "    e = heap2.extract_top()\n",
    "    print(e)\n",
    "    if e is None:\n",
    "        break\n",
    "    \n",
    "    print('======================')\n"
   ]
  },
  {
   "cell_type": "code",
   "execution_count": 204,
   "metadata": {},
   "outputs": [
    {
     "name": "stdout",
     "output_type": "stream",
     "text": [
      "[13]\n"
     ]
    }
   ],
   "source": [
    "print(heap)"
   ]
  },
  {
   "cell_type": "code",
   "execution_count": null,
   "metadata": {},
   "outputs": [],
   "source": []
  },
  {
   "cell_type": "code",
   "execution_count": null,
   "metadata": {},
   "outputs": [],
   "source": []
  }
 ],
 "metadata": {
  "kernelspec": {
   "display_name": "Python 3",
   "language": "python",
   "name": "python3"
  },
  "language_info": {
   "codemirror_mode": {
    "name": "ipython",
    "version": 3
   },
   "file_extension": ".py",
   "mimetype": "text/x-python",
   "name": "python",
   "nbconvert_exporter": "python",
   "pygments_lexer": "ipython3",
   "version": "3.7.4"
  }
 },
 "nbformat": 4,
 "nbformat_minor": 4
}
