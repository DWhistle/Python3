{
 "cells": [
  {
   "cell_type": "code",
   "execution_count": 1,
   "metadata": {},
   "outputs": [],
   "source": [
    "from typing import NamedTuple\n",
    "from math import log2\n",
    "from math import ceil, floor\n",
    "\n",
    "class Node:\n",
    "    def __init__(self, key, left = None, right = None, value = None):\n",
    "        self.left = left \n",
    "        self.right = right\n",
    "        self.value = value\n",
    "        self.key = key"
   ]
  },
  {
   "cell_type": "code",
   "execution_count": null,
   "metadata": {},
   "outputs": [],
   "source": [
    "\n",
    "class Heap:\n",
    "\n",
    "    def __init__(self):\n",
    "        self._tree = None\n",
    "        self._elems_num = 0\n",
    "\n",
    "    def insert(self, nodes):\n",
    "        path = self.find_last().reverse()\n",
    "        node: Node = self._tree\n",
    "        for i in range(1, len(path)):\n",
    "            if path[i] % 2 == 0:\n",
    "                node = node.left\n",
    "            else:\n",
    "                node = node.right\n",
    "        print(node)\n",
    "        \n",
    "\n",
    "    def __restore_heap(self):\n",
    "        pass\n",
    "\n",
    "    def find_last(self):\n",
    "        return self.find_last_element(self._elems_num)\n",
    "\n",
    "    def find_last_element(self, prev):\n",
    "        if (prev <= 1):\n",
    "            return []\n",
    "        p = prev // 2 if prev % 2 == 0 else floor(prev / 2)\n",
    "        return [p] + self.find_last_element(p) \n",
    "h = Heap()\n",
    "n = Node(1)\n",
    "n.left = Node(2)\n",
    "\n",
    "\n",
    "print(Heap().find_last())"
   ]
  }
 ],
 "metadata": {
  "kernelspec": {
   "display_name": "Python 3",
   "language": "python",
   "name": "python3"
  },
  "language_info": {
   "codemirror_mode": {
    "name": "ipython",
    "version": 3
   },
   "file_extension": ".py",
   "mimetype": "text/x-python",
   "name": "python",
   "nbconvert_exporter": "python",
   "pygments_lexer": "ipython3",
   "version": "3.7.6"
  }
 },
 "nbformat": 4,
 "nbformat_minor": 4
}
