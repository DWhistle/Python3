{
 "cells": [
  {
   "cell_type": "code",
   "execution_count": null,
   "metadata": {},
   "outputs": [],
   "source": [
    "\"\"\"\n",
    "The goal of this problem is to implement a variant of the 2-SUM algorithm covered in this week's lectures.\n",
    "\n",
    "The file contains 1 million integers, both positive and negative (there might be some repetitions!).This is your array of integers, with the i^{th}i \n",
    "th\n",
    "  row of the file specifying the i^{th}i \n",
    "th\n",
    "  entry of the array.\n",
    "\n",
    "Your task is to compute the number of target values tt in the interval [-10000,10000] (inclusive) such that there are distinct numbers x,y in the input file that satisfy x+y=t. (NOTE: ensuring distinctness requires a one-line addition to the algorithm from lecture.)\n",
    "\n",
    "Write your numeric answer (an integer between 0 and 20001) in the space provided.\n",
    "\"\"\""
   ]
  },
  {
   "cell_type": "code",
   "execution_count": 2,
   "metadata": {},
   "outputs": [],
   "source": [
    "\n",
    "with open(\"sumof2.txt\") as f:\n",
    "    s = [int(x) for x in f.readlines()]"
   ]
  },
  {
   "cell_type": "code",
   "execution_count": 29,
   "metadata": {},
   "outputs": [],
   "source": [
    "arr = sorted(s)\n",
    "begin = 0\n",
    "end = len(arr) - 1\n",
    "interval = set()\n",
    "while (begin < end):\n",
    "    if arr[end] + arr[begin] > 10000:\n",
    "        end -= 1\n",
    "    elif arr[end] + arr[begin] < -10000:\n",
    "        begin += 1\n",
    "    else:\n",
    "        tmp = end\n",
    "        while arr[end] + arr[begin] > -10000:\n",
    "            interval.add(arr[end] + arr[begin])\n",
    "            end -= 1\n",
    "        end = tmp\n",
    "        begin += 1\n"
   ]
  },
  {
   "cell_type": "code",
   "execution_count": 30,
   "metadata": {},
   "outputs": [
    {
     "name": "stdout",
     "output_type": "stream",
     "text": [
      "427\n",
      "-9967 9965\n"
     ]
    }
   ],
   "source": [
    "print(len(interval))\n",
    "print(min(interval), max(interval))"
   ]
  }
 ],
 "metadata": {
  "kernelspec": {
   "display_name": "Python 3",
   "language": "python",
   "name": "python3"
  },
  "language_info": {
   "codemirror_mode": {
    "name": "ipython",
    "version": 3
   },
   "file_extension": ".py",
   "mimetype": "text/x-python",
   "name": "python",
   "nbconvert_exporter": "python",
   "pygments_lexer": "ipython3",
   "version": "3.7.6"
  }
 },
 "nbformat": 4,
 "nbformat_minor": 2
}
