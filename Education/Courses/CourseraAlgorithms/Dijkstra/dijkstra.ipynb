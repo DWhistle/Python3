{
 "cells": [
  {
   "cell_type": "code",
   "execution_count": null,
   "metadata": {},
   "outputs": [],
   "source": [
    "import re\n",
    "import copy\n",
    "import sys\n",
    "from collections import defaultdict"
   ]
  },
  {
   "cell_type": "code",
   "execution_count": null,
   "metadata": {},
   "outputs": [],
   "source": [
    "graph = {}\n",
    "with open(\"Dijkstra.txt\") as f:\n",
    "    while True:\n",
    "        s = f.readline()\n",
    "        if not s:\n",
    "            break\n",
    "        s = re.split('[\\s\\t]+', s)\n",
    "        graph.update({int(s[0]): \n",
    "                      list(map(lambda x: (int(x.split(',')[0]),\n",
    "                                          int(x.split(',')[1])), s[1:len(s) - 1]))})"
   ]
  },
  {
   "cell_type": "code",
   "execution_count": null,
   "metadata": {},
   "outputs": [],
   "source": [
    "graph_copy = copy.deepcopy(graph)\n",
    "shortest_path = defaultdict(lambda:sys.maxsize)\n",
    "source = 1\n",
    "checked = set()\n",
    "end = 2\n",
    "distances = []\n",
    "current = []\n",
    "def dijkstra(graph, source, end):\n",
    "    checked = set()\n",
    "    while source != end:\n",
    "        distances = []\n",
    "        print(checked)\n",
    "        checked.add(source)\n",
    "        for v in graph_copy[source]:\n",
    "            if v == end:\n",
    "                return shortest_path[v[0]] + v[1]\n",
    "            elif v not in checked:\n",
    "                current.add(v)\n",
    "            distances.append(v)\n",
    "        if shortest_path[v[0]] > shortest_path[source] + v[1]:\n",
    "            shortest_path[v[0]] = shortest_path[source[v[0]]] + v[1]\n",
    "        source = sorted(distances, key=lambda x: x[1])[0][0]\n",
    "\n",
    "print(dijkstra(graph_copy, source, end))\n"
   ]
  },
  {
   "cell_type": "code",
   "execution_count": null,
   "metadata": {},
   "outputs": [],
   "source": [
    "def dijkstra(graph, source, end):\n",
    "    checked = set()\n",
    "    \n",
    "    while source != end:\n",
    "        "
   ]
  },
  {
   "cell_type": "code",
   "execution_count": null,
   "metadata": {},
   "outputs": [],
   "source": []
  }
 ],
 "metadata": {
  "kernelspec": {
   "display_name": "Python 3",
   "language": "python",
   "name": "python3"
  },
  "language_info": {
   "codemirror_mode": {
    "name": "ipython",
    "version": 3
   },
   "file_extension": ".py",
   "mimetype": "text/x-python",
   "name": "python",
   "nbconvert_exporter": "python",
   "pygments_lexer": "ipython3",
   "version": "3.7.6"
  }
 },
 "nbformat": 4,
 "nbformat_minor": 4
}
