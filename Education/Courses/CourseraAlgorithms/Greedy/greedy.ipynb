{
 "cells": [
  {
   "cell_type": "code",
   "execution_count": 27,
   "metadata": {},
   "outputs": [],
   "source": [
    "jobs = []\n",
    "with open(\"n_jobs.txt\") as f:\n",
    "    s = f.readline()\n",
    "    while True:\n",
    "        s = f.readline()\n",
    "        if s is None or s is \"\":\n",
    "            break\n",
    "        w, l = int(s.split(\" \")[0]), int(s.split(\" \")[1])\n",
    "        jobs.append((w, l))"
   ]
  },
  {
   "cell_type": "markdown",
   "metadata": {},
   "source": [
    "### N_JOBS\n",
    "Your task in this problem is to run the greedy algorithm that\n",
    "schedules jobs in decreasing order of the difference (weight - length).\n",
    "Recall from lecture that this algorithm is not always optimal. \n",
    "*IMPORTANT*: if two jobs have equal difference (weight - length), \n",
    "you should schedule the job with higher weight first. \n",
    "Beware: if you break ties in a different way, you are likely to get the wrong answer. You should report the sum of weighted completion times of the resulting schedule --- a positive integer --- in the box below.\n",
    "\n"
   ]
  },
  {
   "cell_type": "code",
   "execution_count": 28,
   "metadata": {},
   "outputs": [
    {
     "name": "stdout",
     "output_type": "stream",
     "text": [
      " the weighted completion time is 69119377652\n"
     ]
    }
   ],
   "source": [
    "non_opt_jobs = []\n",
    "for j in jobs:\n",
    "    non_opt_jobs.append((j[0], j[1], j[0] - j[1]))\n",
    "non_opt_jobs.sort(key = lambda x: (x[2], x[0]), reverse=True)\n",
    "comp_time = 0\n",
    "length = 0\n",
    "for j in non_opt_jobs:\n",
    "    length += j[1]\n",
    "    comp_time += j[0] * length\n",
    "print(f\" the weighted completion time is {comp_time}\")"
   ]
  },
  {
   "cell_type": "markdown",
   "metadata": {},
   "source": [
    "### N_JOBS_OPTIMAL\n",
    "\n",
    "Your task now is to run the greedy algorithm that schedules jobs (optimally) in decreasing order of the ratio (weight/length). \n",
    "In this algorithm, it does not matter how you break ties. \n",
    "You should report the sum of weighted completion times of the resulting schedule --- a positive integer --- in the box below."
   ]
  },
  {
   "cell_type": "code",
   "execution_count": 30,
   "metadata": {},
   "outputs": [
    {
     "name": "stdout",
     "output_type": "stream",
     "text": [
      " the weighted completion time is 67311454237\n"
     ]
    }
   ],
   "source": [
    "opt_jobs = []\n",
    "for j in jobs:\n",
    "    opt_jobs.append((j[0], j[1], j[0] / j[1]))\n",
    "opt_jobs.sort(key = lambda x: (x[2], x[0]), reverse=True)\n",
    "comp_time = 0\n",
    "length = 0\n",
    "for j in opt_jobs:\n",
    "    length += j[1]\n",
    "    comp_time += j[0] * length\n",
    "print(f\" the weighted completion time is {comp_time}\")"
   ]
  },
  {
   "cell_type": "markdown",
   "metadata": {},
   "source": [
    "### PRIM's MST\n",
    "\n",
    "Your task is to run Prim's minimum spanning tree algorithm on this graph. You should report the overall cost of a minimum spanning tree --- an integer, which may or may not be negative --- in the box below.\n",
    "\n",
    "IMPLEMENTATION NOTES: This graph is small enough that the straightforward O(mn) time implementation of Prim's algorithm should work fine.\n",
    "\n",
    "OPTIONAL: For those of you seeking an additional challenge, try implementing a heap-based version. The simpler approach, which should already give you a healthy speed-up, is to maintain relevant edges in a heap (with keys = edge costs). The superior approach stores the unprocessed vertices in the heap, as described in lecture. Note this requires a heap that supports deletions, and you'll probably need to maintain some kind of mapping between vertices and their positions in the heap."
   ]
  },
  {
   "cell_type": "code",
   "execution_count": 212,
   "metadata": {},
   "outputs": [],
   "source": [
    "from sortedcontainers import SortedDict\n",
    "import random\n",
    "import sys\n",
    "graph = None\n",
    "with open(\"prim_edges.txt\") as f:\n",
    "    graph = {int(x): [] for x in range(1, int(f.readline().split(\" \")[0]) + 1)}\n",
    "    while True:\n",
    "        s = f.readline()\n",
    "        if s is None or s is \"\":\n",
    "            break\n",
    "        e1, e2, l  = int(s.split(\" \")[0]), int(s.split(\" \")[1]),  int(s.split(\" \")[2])\n",
    "        graph[e1].append((e2,l))\n",
    "        graph[e2].append((e1,l))"
   ]
  },
  {
   "cell_type": "code",
   "execution_count": 213,
   "metadata": {},
   "outputs": [],
   "source": [
    "class PrimDict(dict):\n",
    "    def __setitem__(self, key, value):\n",
    "        if self.get(key, sys.maxsize) > value:\n",
    "            dict.__setitem__(self, key, value)"
   ]
  },
  {
   "cell_type": "code",
   "execution_count": 214,
   "metadata": {},
   "outputs": [],
   "source": [
    "visited = set()\n",
    "distances = PrimDict()\n",
    "cost = 0\n",
    "next_node = random.randint(0, len(graph.keys()) - 1)\n",
    "visited.add(next_node)\n",
    "while visited != graph.keys():\n",
    "    for node in graph[next_node]:\n",
    "        if node[0] not in visited:\n",
    "            distances[node[0]] = node[1]\n",
    "    while visited != graph.keys():\n",
    "        smallest_item = min(distances.items(), key = lambda x: x[1])\n",
    "        next_node = smallest_item[0]\n",
    "        if next_node not in visited:\n",
    "            visited.add(next_node)\n",
    "            cost += smallest_item[1]\n",
    "            del distances[next_node]\n",
    "            break"
   ]
  },
  {
   "cell_type": "code",
   "execution_count": 215,
   "metadata": {},
   "outputs": [
    {
     "name": "stdout",
     "output_type": "stream",
     "text": [
      " overall cost is -3612829\n"
     ]
    }
   ],
   "source": [
    "print(f\" overall cost is {cost}\")"
   ]
  }
 ],
 "metadata": {
  "kernelspec": {
   "display_name": "Python 3",
   "language": "python",
   "name": "python3"
  },
  "language_info": {
   "codemirror_mode": {
    "name": "ipython",
    "version": 3
   },
   "file_extension": ".py",
   "mimetype": "text/x-python",
   "name": "python",
   "nbconvert_exporter": "python",
   "pygments_lexer": "ipython3",
   "version": "3.7.6"
  }
 },
 "nbformat": 4,
 "nbformat_minor": 4
}
