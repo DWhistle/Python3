{
 "cells": [
  {
   "cell_type": "markdown",
   "metadata": {},
   "source": [
    "# Lock n load Table Scraper for Coursera"
   ]
  },
  {
   "cell_type": "code",
   "execution_count": 382,
   "metadata": {},
   "outputs": [
    {
     "name": "stdout",
     "output_type": "stream",
     "text": [
      "Requirement already satisfied: beautifulsoup4 in /Users/bturcott/.brew/lib/python3.7/site-packages (4.7.1)\n",
      "Requirement already satisfied: soupsieve>=1.2 in /Users/bturcott/.brew/lib/python3.7/site-packages (from beautifulsoup4) (1.9.1)\n",
      "Note: you may need to restart the kernel to use updated packages.\n"
     ]
    }
   ],
   "source": [
    "pip install beautifulsoup4"
   ]
  },
  {
   "cell_type": "code",
   "execution_count": 383,
   "metadata": {
    "scrolled": true
   },
   "outputs": [
    {
     "name": "stdout",
     "output_type": "stream",
     "text": [
      "Requirement already satisfied: pandas in /Users/bturcott/.brew/lib/python3.7/site-packages (0.24.2)\n",
      "Requirement already satisfied: numpy>=1.12.0 in /Users/bturcott/.brew/lib/python3.7/site-packages (from pandas) (1.16.4)\n",
      "Requirement already satisfied: pytz>=2011k in /Users/bturcott/.brew/lib/python3.7/site-packages (from pandas) (2019.1)\n",
      "Requirement already satisfied: python-dateutil>=2.5.0 in /Users/bturcott/.brew/lib/python3.7/site-packages (from pandas) (2.8.0)\n",
      "Requirement already satisfied: six>=1.5 in /Users/bturcott/Library/Python/3.7/lib/python/site-packages (from python-dateutil>=2.5.0->pandas) (1.12.0)\n",
      "Note: you may need to restart the kernel to use updated packages.\n"
     ]
    }
   ],
   "source": [
    "pip install pandas"
   ]
  },
  {
   "cell_type": "code",
   "execution_count": 384,
   "metadata": {},
   "outputs": [],
   "source": [
    "#importing libs and intalling if necessary\n",
    "from bs4 import BeautifulSoup\n",
    "import urllib.request\n",
    "import pandas as pd"
   ]
  },
  {
   "cell_type": "code",
   "execution_count": 385,
   "metadata": {},
   "outputs": [],
   "source": [
    "#making a request to Wiki\n",
    "html = urllib.request.urlopen(\"https://en.wikipedia.org/wiki/List_of_postal_codes_of_Canada:_M\")\n",
    "bs = html.read()\n",
    "\n",
    "html_code = bs.decode(\"utf8\")\n",
    "html.close()"
   ]
  },
  {
   "cell_type": "code",
   "execution_count": 386,
   "metadata": {},
   "outputs": [],
   "source": [
    "#extracting the table\n",
    "soup = BeautifulSoup(html_code)"
   ]
  },
  {
   "cell_type": "code",
   "execution_count": 387,
   "metadata": {},
   "outputs": [],
   "source": [
    "#dividing the table into 3 lists\n",
    "table = soup.find('table',attrs = {'class':'wikitable sortable'})\n",
    "tab = table.find_all('a')\n",
    "td = table.find_all('td')\n",
    "col1 = []\n",
    "col2 = []\n",
    "col3 = []\n",
    "i = 0\n",
    "for elem in td:\n",
    "    if i == 0:\n",
    "        col1.append(elem.text.split(',', 1))\n",
    "        i+=1\n",
    "    elif i == 1:\n",
    "        col2.append(elem.text.split(',', 1))\n",
    "        i+=1\n",
    "    elif i == 2:\n",
    "        col3.append(elem.text.split(',', 1))\n",
    "        i = 0\n",
    "final = []\n",
    "for link in tab:\n",
    "    final.append(link.get('title'))"
   ]
  },
  {
   "cell_type": "code",
   "execution_count": 388,
   "metadata": {},
   "outputs": [],
   "source": [
    "e = []\n",
    "s = {}\n",
    "i = 0\n",
    "for m in col1, col2, col3:\n",
    "    e.append({str(i) : [''.join(i).replace('\\n', '').strip() for i in m]})\n",
    "    i+=1\n",
    "#making a dictionary form the table\n",
    "s.update(e[0])\n",
    "s.update(e[1])\n",
    "s.update(e[2])"
   ]
  },
  {
   "cell_type": "code",
   "execution_count": 389,
   "metadata": {},
   "outputs": [],
   "source": [
    "#loading into Pandas DataFrame\n",
    "df = pd.DataFrame(s)\n",
    "df2 = df.copy()"
   ]
  },
  {
   "cell_type": "code",
   "execution_count": 390,
   "metadata": {},
   "outputs": [],
   "source": [
    "#spotting duplicates\n",
    "un = df['0'].duplicated(keep=False)       "
   ]
  },
  {
   "cell_type": "code",
   "execution_count": 391,
   "metadata": {},
   "outputs": [],
   "source": [
    "#grouping values from duplicates\n",
    "i = 1\n",
    "m = {}\n",
    "indexes = []\n",
    "cities = []\n",
    "temp=\"\"\n",
    "while i in range(len(un)):\n",
    "    if un[i] == True:\n",
    "        indexes.append(i)\n",
    "        temp += df['2'][i] + ', '\n",
    "        cities.append(str(df['1'][i]))\n",
    "        i+=1\n",
    "        while df['0'][i] == df['0'][i - 1]:\n",
    "            temp += df['2'][i]\n",
    "            indexes.append(i)\n",
    "            i+=1\n",
    "            if df['0'][i] == df['0'][i - 1]:\n",
    "                temp += ', '\n",
    "        m[df['0'][i - 1].replace('\\n', '')] = temp\n",
    "        temp=\"\"\n",
    "    if un[i] == False:    \n",
    "        i+=1"
   ]
  },
  {
   "cell_type": "code",
   "execution_count": 392,
   "metadata": {},
   "outputs": [],
   "source": [
    "#concating\n",
    "lkeys = list(m.keys())\n",
    "df3 = df3.transpose()\n",
    "tab1 = {'0' : lkeys}\n",
    "tab2 = {'2' : list(m.values())}\n",
    "tab3 = {'1' : cities}\n",
    "tab1.update(tab2)\n",
    "tab1.update(tab3)\n",
    "df3 = pd.DataFrame(tab1)"
   ]
  },
  {
   "cell_type": "code",
   "execution_count": 393,
   "metadata": {},
   "outputs": [],
   "source": [
    "#dropping appropriates inside the copy of the dataframe\n",
    "df2.drop(indexes, inplace=True)"
   ]
  },
  {
   "cell_type": "code",
   "execution_count": 394,
   "metadata": {},
   "outputs": [],
   "source": [
    "#Assigning values which weren't assigned to Neighborhood from Borough\n",
    "dfinal = 0\n",
    "dfinal = pd.concat([df3,df2], sort='true', join='inner')\n",
    "i = 0\n",
    "for index, row in dfinal.iterrows():\n",
    "    if row['1'] != 'Not assigned' and row['2'] == 'Not assigned':\n",
    "        row['2'] = row['1']\n",
    "    i+=1"
   ]
  },
  {
   "cell_type": "code",
   "execution_count": 395,
   "metadata": {},
   "outputs": [],
   "source": [
    "#Naming the columns\n",
    "dfinal.columns = ['PostalCode', 'Borough', 'Neighborhood']\n",
    "\n",
    "dfinal = dfinal.reset_index()\n",
    "del dfinal['index']"
   ]
  },
  {
   "cell_type": "markdown",
   "metadata": {},
   "source": [
    "## **Here we are:**\n",
    "-------------------"
   ]
  },
  {
   "cell_type": "code",
   "execution_count": 396,
   "metadata": {},
   "outputs": [
    {
     "data": {
      "text/html": [
       "<div>\n",
       "<style scoped>\n",
       "    .dataframe tbody tr th:only-of-type {\n",
       "        vertical-align: middle;\n",
       "    }\n",
       "\n",
       "    .dataframe tbody tr th {\n",
       "        vertical-align: top;\n",
       "    }\n",
       "\n",
       "    .dataframe thead th {\n",
       "        text-align: right;\n",
       "    }\n",
       "</style>\n",
       "<table border=\"1\" class=\"dataframe\">\n",
       "  <thead>\n",
       "    <tr style=\"text-align: right;\">\n",
       "      <th></th>\n",
       "      <th>PostalCode</th>\n",
       "      <th>Borough</th>\n",
       "      <th>Neighborhood</th>\n",
       "    </tr>\n",
       "  </thead>\n",
       "  <tbody>\n",
       "    <tr>\n",
       "      <th>0</th>\n",
       "      <td>M5A</td>\n",
       "      <td>Downtown Toronto</td>\n",
       "      <td>Harbourfront, Regent Park</td>\n",
       "    </tr>\n",
       "    <tr>\n",
       "      <th>1</th>\n",
       "      <td>M6A</td>\n",
       "      <td>North York</td>\n",
       "      <td>Lawrence Heights, Lawrence Manor</td>\n",
       "    </tr>\n",
       "    <tr>\n",
       "      <th>2</th>\n",
       "      <td>M1B</td>\n",
       "      <td>Scarborough</td>\n",
       "      <td>Rouge, Malvern</td>\n",
       "    </tr>\n",
       "    <tr>\n",
       "      <th>3</th>\n",
       "      <td>M4B</td>\n",
       "      <td>East York</td>\n",
       "      <td>Woodbine Gardens, Parkview Hill</td>\n",
       "    </tr>\n",
       "    <tr>\n",
       "      <th>4</th>\n",
       "      <td>M5B</td>\n",
       "      <td>Downtown Toronto</td>\n",
       "      <td>Ryerson, Garden District</td>\n",
       "    </tr>\n",
       "    <tr>\n",
       "      <th>5</th>\n",
       "      <td>M9B</td>\n",
       "      <td>Etobicoke</td>\n",
       "      <td>Cloverdale, Islington, Martin Grove, Princess ...</td>\n",
       "    </tr>\n",
       "    <tr>\n",
       "      <th>6</th>\n",
       "      <td>M1C</td>\n",
       "      <td>Scarborough</td>\n",
       "      <td>Highland Creek, Rouge Hill, Port Union</td>\n",
       "    </tr>\n",
       "    <tr>\n",
       "      <th>7</th>\n",
       "      <td>M3C</td>\n",
       "      <td>North York</td>\n",
       "      <td>Flemingdon Park, Don Mills South</td>\n",
       "    </tr>\n",
       "    <tr>\n",
       "      <th>8</th>\n",
       "      <td>M9C</td>\n",
       "      <td>Etobicoke</td>\n",
       "      <td>Bloordale Gardens, Eringate, Markland Wood, Ol...</td>\n",
       "    </tr>\n",
       "    <tr>\n",
       "      <th>9</th>\n",
       "      <td>M1E</td>\n",
       "      <td>Scarborough</td>\n",
       "      <td>Guildwood, Morningside, West Hill</td>\n",
       "    </tr>\n",
       "    <tr>\n",
       "      <th>10</th>\n",
       "      <td>M3H</td>\n",
       "      <td>North York</td>\n",
       "      <td>Bathurst Manor, Downsview North, Wilson Heights</td>\n",
       "    </tr>\n",
       "    <tr>\n",
       "      <th>11</th>\n",
       "      <td>M5H</td>\n",
       "      <td>Downtown Toronto</td>\n",
       "      <td>Adelaide, King, Richmond</td>\n",
       "    </tr>\n",
       "  </tbody>\n",
       "</table>\n",
       "</div>"
      ],
      "text/plain": [
       "   PostalCode           Borough  \\\n",
       "0         M5A  Downtown Toronto   \n",
       "1         M6A        North York   \n",
       "2         M1B       Scarborough   \n",
       "3         M4B         East York   \n",
       "4         M5B  Downtown Toronto   \n",
       "5         M9B         Etobicoke   \n",
       "6         M1C       Scarborough   \n",
       "7         M3C        North York   \n",
       "8         M9C         Etobicoke   \n",
       "9         M1E       Scarborough   \n",
       "10        M3H        North York   \n",
       "11        M5H  Downtown Toronto   \n",
       "\n",
       "                                         Neighborhood  \n",
       "0                           Harbourfront, Regent Park  \n",
       "1                    Lawrence Heights, Lawrence Manor  \n",
       "2                                      Rouge, Malvern  \n",
       "3                     Woodbine Gardens, Parkview Hill  \n",
       "4                            Ryerson, Garden District  \n",
       "5   Cloverdale, Islington, Martin Grove, Princess ...  \n",
       "6              Highland Creek, Rouge Hill, Port Union  \n",
       "7                    Flemingdon Park, Don Mills South  \n",
       "8   Bloordale Gardens, Eringate, Markland Wood, Ol...  \n",
       "9                   Guildwood, Morningside, West Hill  \n",
       "10    Bathurst Manor, Downsview North, Wilson Heights  \n",
       "11                           Adelaide, King, Richmond  "
      ]
     },
     "execution_count": 396,
     "metadata": {},
     "output_type": "execute_result"
    }
   ],
   "source": [
    "dfinal.head(12)"
   ]
  },
  {
   "cell_type": "code",
   "execution_count": 397,
   "metadata": {},
   "outputs": [
    {
     "data": {
      "text/plain": [
       "(180, 3)"
      ]
     },
     "execution_count": 397,
     "metadata": {},
     "output_type": "execute_result"
    }
   ],
   "source": [
    "dfinal.shape"
   ]
  }
 ],
 "metadata": {
  "kernelspec": {
   "display_name": "Python 3",
   "language": "python",
   "name": "python3"
  },
  "language_info": {
   "codemirror_mode": {
    "name": "ipython",
    "version": 3
   },
   "file_extension": ".py",
   "mimetype": "text/x-python",
   "name": "python",
   "nbconvert_exporter": "python",
   "pygments_lexer": "ipython3",
   "version": "3.7.3"
  }
 },
 "nbformat": 4,
 "nbformat_minor": 2
}
