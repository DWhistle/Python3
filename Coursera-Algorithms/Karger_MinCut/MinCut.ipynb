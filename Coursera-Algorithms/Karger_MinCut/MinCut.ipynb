{
 "cells": [
  {
   "cell_type": "code",
   "execution_count": 88,
   "metadata": {},
   "outputs": [],
   "source": [
    "import re\n",
    "import random\n",
    "import copy\n",
    "import sys"
   ]
  },
  {
   "cell_type": "code",
   "execution_count": 116,
   "metadata": {},
   "outputs": [],
   "source": [
    "graphm = {}\n",
    "with open(\"mincut.txt\") as representation:\n",
    "    while True:\n",
    "        line = representation.readline()\n",
    "        if line is None or not line:\n",
    "            break\n",
    "        numbers = re.split(r'[\\r\\s]+', line)\n",
    "        numbers = list(map(lambda x: int(x), filter(lambda x: x, numbers)))\n",
    "        graphm.update({numbers[0] : (numbers[1:])})"
   ]
  },
  {
   "cell_type": "code",
   "execution_count": 118,
   "metadata": {},
   "outputs": [
    {
     "name": "stdout",
     "output_type": "stream",
     "text": [
      "The mincut is 17\n"
     ]
    }
   ],
   "source": [
    "mincut = sys.maxsize\n",
    "for i in range(0,100):\n",
    "    graph = copy.deepcopy(graphm)\n",
    "    vertices = set(graphm.keys())\n",
    "    while (len(vertices) > 2):\n",
    "        #choosing an edge uniformly at random among remaining vertices\n",
    "        vertex = random.choice(tuple(vertices))\n",
    "        edge = graph[vertex][random.randint(0, len(graph[vertex]) - 1)]\n",
    "        graph[vertex] += graph[edge]\n",
    "        graph[edge] = 0\n",
    "        vertices.remove(edge)\n",
    "        #then replacing with new value within the adjacent vertices and filtering self-loops\n",
    "        for k in vertices:\n",
    "            if edge in graph[k]:\n",
    "                graph[k] = list(map(lambda x: vertex if edge == x else x, graph[k]))\n",
    "                graph[k] = list(filter(lambda x: x != k, graph[k]))\n",
    "    for v in vertices:\n",
    "        mincut = min(len(graph[v]), mincut)\n",
    "print('The mincut is', mincut)"
   ]
  },
  {
   "cell_type": "code",
   "execution_count": 91,
   "metadata": {},
   "outputs": [
    {
     "name": "stdout",
     "output_type": "stream",
     "text": [
      "9223372036854775807\n"
     ]
    }
   ],
   "source": []
  },
  {
   "cell_type": "code",
   "execution_count": null,
   "metadata": {},
   "outputs": [],
   "source": []
  }
 ],
 "metadata": {
  "kernelspec": {
   "display_name": "Python 3",
   "language": "python",
   "name": "python3"
  },
  "language_info": {
   "codemirror_mode": {
    "name": "ipython",
    "version": 3
   },
   "file_extension": ".py",
   "mimetype": "text/x-python",
   "name": "python",
   "nbconvert_exporter": "python",
   "pygments_lexer": "ipython3",
   "version": "3.7.5"
  }
 },
 "nbformat": 4,
 "nbformat_minor": 2
}
